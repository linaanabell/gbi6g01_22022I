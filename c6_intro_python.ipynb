{
  "nbformat": 4,
  "nbformat_minor": 0,
  "metadata": {
    "colab": {
      "name": "c6_intro_python.ipynb",
      "provenance": [],
      "authorship_tag": "ABX9TyOtLhiAxOwIP+cnGVso1MLa",
      "include_colab_link": true
    },
    "kernelspec": {
      "name": "python3",
      "display_name": "Python 3"
    },
    "language_info": {
      "name": "python"
    }
  },
  "cells": [
    {
      "cell_type": "markdown",
      "metadata": {
        "id": "view-in-github",
        "colab_type": "text"
      },
      "source": [
        "<a href=\"https://colab.research.google.com/github/linaanabell/gbi6g01_22022I/blob/main/c6_intro_python.ipynb\" target=\"_parent\"><img src=\"https://colab.research.google.com/assets/colab-badge.svg\" alt=\"Open In Colab\"/></a>"
      ]
    },
    {
      "cell_type": "code",
      "execution_count": 8,
      "metadata": {
        "id": "RuD8lgUMxKs9"
      },
      "outputs": [],
      "source": [
        "gen1_r = 1.5\n",
        "gen1_h = 1.7\n",
        "dif_gen1 = gen1_r - gen1_h\n",
        "ratio_gen1 = gen1_r / gen1_h"
      ]
    },
    {
      "cell_type": "code",
      "source": [
        "print(\"gen1_h:\", gen1_h)\n",
        "print(\"gen1_h:\", gen1_r)\n",
        "print(\"dif_gen1:\", dif_gen1)\n",
        "print(\"ratio_gen1:\", ratio_gen1)"
      ],
      "metadata": {
        "colab": {
          "base_uri": "https://localhost:8080/"
        },
        "id": "14GS9_fH6hlT",
        "outputId": "02d9a54f-baad-4853-a03a-940be4ad5b47"
      },
      "execution_count": 10,
      "outputs": [
        {
          "output_type": "stream",
          "name": "stdout",
          "text": [
            "gen1_h: 1.7\n",
            "gen1_h: 1.5\n",
            "dif_gen1: -0.19999999999999996\n",
            "ratio_gen1: 0.8823529411764706\n"
          ]
        }
      ]
    },
    {
      "cell_type": "markdown",
      "source": [
        "# Operaciones con texto"
      ],
      "metadata": {
        "id": "siAvJ_-78cQL"
      }
    },
    {
      "cell_type": "code",
      "source": [
        "saludo = \"hola Lina Anabell, no hay examen se feliz\"\n",
        "saludo.capitalize()"
      ],
      "metadata": {
        "colab": {
          "base_uri": "https://localhost:8080/",
          "height": 35
        },
        "id": "dpdiHy3b8h1T",
        "outputId": "4b098daf-0669-4bd0-c6cd-a59f354099d1"
      },
      "execution_count": 14,
      "outputs": [
        {
          "output_type": "execute_result",
          "data": {
            "text/plain": [
              "'Hola lina anabell, no hay examen se feliz'"
            ],
            "application/vnd.google.colaboratory.intrinsic+json": {
              "type": "string"
            }
          },
          "metadata": {},
          "execution_count": 14
        }
      ]
    },
    {
      "cell_type": "code",
      "source": [
        "saludo = \"hola Lina Anabell, no hay examen se feliz\"\n",
        "saludo.upper()"
      ],
      "metadata": {
        "colab": {
          "base_uri": "https://localhost:8080/",
          "height": 35
        },
        "id": "dtIzozpF9fm-",
        "outputId": "27c7ef76-d693-42f5-fc83-25f0701c9618"
      },
      "execution_count": 15,
      "outputs": [
        {
          "output_type": "execute_result",
          "data": {
            "text/plain": [
              "'HOLA LINA ANABELL, NO HAY EXAMEN SE FELIZ'"
            ],
            "application/vnd.google.colaboratory.intrinsic+json": {
              "type": "string"
            }
          },
          "metadata": {},
          "execution_count": 15
        }
      ]
    },
    {
      "cell_type": "code",
      "source": [
        "len(saludo)"
      ],
      "metadata": {
        "colab": {
          "base_uri": "https://localhost:8080/"
        },
        "id": "Pd3T8P9d91iV",
        "outputId": "7cea8127-ac33-4a86-d26d-5775df76716f"
      },
      "execution_count": 16,
      "outputs": [
        {
          "output_type": "execute_result",
          "data": {
            "text/plain": [
              "41"
            ]
          },
          "metadata": {},
          "execution_count": 16
        }
      ]
    },
    {
      "cell_type": "code",
      "source": [
        "# En este bloque se revisa el uso combinado de funciones\n",
        "total = len(saludo)\n",
        "char_a = saludo.count (\"a\")\n",
        "ratio_a = 100*char_a / total\n",
        "print(\"Porcentaje de a:\", ratio_a)"
      ],
      "metadata": {
        "colab": {
          "base_uri": "https://localhost:8080/"
        },
        "id": "vaFL1ape-vY-",
        "outputId": "bec81045-2fb4-408f-b1a9-602050c84df3"
      },
      "execution_count": 17,
      "outputs": [
        {
          "output_type": "stream",
          "name": "stdout",
          "text": [
            "Porcentaje de a: 12.195121951219512\n"
          ]
        }
      ]
    },
    {
      "cell_type": "code",
      "source": [
        "round(ratio_a, 2)"
      ],
      "metadata": {
        "colab": {
          "base_uri": "https://localhost:8080/"
        },
        "id": "rpeEEypG_1cu",
        "outputId": "e72c45e8-f0f0-4d0d-f81a-3af4aafe287e"
      },
      "execution_count": 18,
      "outputs": [
        {
          "output_type": "execute_result",
          "data": {
            "text/plain": [
              "12.2"
            ]
          },
          "metadata": {},
          "execution_count": 18
        }
      ]
    },
    {
      "cell_type": "markdown",
      "source": [
        "# PROCENTAJE DE GC\n",
        "Calcular el porcentaje de contenido de nucleotidos G y C en la siguiente secuencia"
      ],
      "metadata": {
        "id": "antncYcYAMS8"
      }
    },
    {
      "cell_type": "code",
      "source": [
        "p53_l1 = \"TTCCTGGNCTGTAGGTAGCGACTACAGTTAGGGGGCACCTAGCATTCAGGCCCTCATCCTCCTCCTTCCC\""
      ],
      "metadata": {
        "id": "5f3gNownBpRj"
      },
      "execution_count": 20,
      "outputs": []
    },
    {
      "cell_type": "code",
      "source": [
        "total = len(p53_l1)\n",
        "char_C = p53_l1.count (\"C\")\n",
        "ratio_C = 100*char_C / total\n",
        "print(\"Porcentaje de C:\", ratio_C)"
      ],
      "metadata": {
        "colab": {
          "base_uri": "https://localhost:8080/"
        },
        "id": "bcsXKKGfBvEU",
        "outputId": "355f917d-0b1b-426b-f72f-a5e38df88229"
      },
      "execution_count": 21,
      "outputs": [
        {
          "output_type": "stream",
          "name": "stdout",
          "text": [
            "Porcentaje de C: 34.285714285714285\n"
          ]
        }
      ]
    },
    {
      "cell_type": "code",
      "source": [
        "total = len(p53_l1)\n",
        "char_G = p53_l1.count (\"G\")\n",
        "chart_C= p53_l1.count (\"C\")\n",
        "ratio_GC = 100*(char_G + chart_C) / total\n",
        "print(\"Porcentaje de GC:\", ratio_GC)"
      ],
      "metadata": {
        "colab": {
          "base_uri": "https://localhost:8080/"
        },
        "id": "uatv7-OoClzB",
        "outputId": "f85e1cf2-022b-481e-d16a-1edb0f38261b"
      },
      "execution_count": 30,
      "outputs": [
        {
          "output_type": "stream",
          "name": "stdout",
          "text": [
            "Porcentaje de GC: 57.142857142857146\n"
          ]
        }
      ]
    },
    {
      "cell_type": "code",
      "source": [
        "percent_GC= 100*(p53_l1.count (\"G\") + p53_l1.count (\"C\"))/len(p53_l1)\n",
        "print(\"Porcentaje de GC en p53_linea1:\", round(percent_GC, 3))"
      ],
      "metadata": {
        "colab": {
          "base_uri": "https://localhost:8080/"
        },
        "id": "R-cr1PYqC_Hf",
        "outputId": "c20c6cda-b09e-4440-f179-2ed06facab79"
      },
      "execution_count": 25,
      "outputs": [
        {
          "output_type": "stream",
          "name": "stdout",
          "text": [
            "Porcentaje de GC en p53_linea1: 57.143\n"
          ]
        }
      ]
    },
    {
      "cell_type": "code",
      "source": [
        "# Subconjunto\n",
        "print(p53_l1)\n",
        "ffi = p53_l1.find(\"TAC\") #Si se tiene\n",
        "ff1 = p53_l1.find(\"ATT\") #Si se tiene\n",
        "ff2 = p53_l1.find(\"ATC\")\n",
        "ff3 = p53_l1.find(\"ACT\")"
      ],
      "metadata": {
        "colab": {
          "base_uri": "https://localhost:8080/"
        },
        "id": "O3OG9-ZXErZs",
        "outputId": "c8bd26a8-2201-4fb9-b821-dfd6d1086f99"
      },
      "execution_count": 33,
      "outputs": [
        {
          "output_type": "stream",
          "name": "stdout",
          "text": [
            "TTCCTGGNCTGTAGGTAGCGACTACAGTTAGGGGGCACCTAGCATTCAGGCCCTCATCCTCCTCCTTCCC\n"
          ]
        }
      ]
    },
    {
      "cell_type": "code",
      "source": [
        "p53_l1[3:6]\n",
        "p53_l1[0:2]"
      ],
      "metadata": {
        "colab": {
          "base_uri": "https://localhost:8080/",
          "height": 35
        },
        "id": "jRBtI6X5PCIG",
        "outputId": "95a964fd-e5af-4341-90f2-8d380dac9cb4"
      },
      "execution_count": 38,
      "outputs": [
        {
          "output_type": "execute_result",
          "data": {
            "text/plain": [
              "'TT'"
            ],
            "application/vnd.google.colaboratory.intrinsic+json": {
              "type": "string"
            }
          },
          "metadata": {},
          "execution_count": 38
        }
      ]
    },
    {
      "cell_type": "code",
      "source": [
        "mRNA_f1 =p53_l1[ffi:ff1+3]\n",
        "print(mRNA_f1)"
      ],
      "metadata": {
        "colab": {
          "base_uri": "https://localhost:8080/"
        },
        "id": "xwp6IeiMQeKn",
        "outputId": "67962a86-e44e-48f2-b53e-6fdf3a70e799"
      },
      "execution_count": 45,
      "outputs": [
        {
          "output_type": "stream",
          "name": "stdout",
          "text": [
            "TACAGTTAGGGGGCACCTAGCATT\n"
          ]
        }
      ]
    },
    {
      "cell_type": "code",
      "source": [
        "# Cadena Complementaria\n",
        "print(saludo)\n",
        "saludo.replace(\"a\", \"e\")"
      ],
      "metadata": {
        "colab": {
          "base_uri": "https://localhost:8080/",
          "height": 53
        },
        "id": "dRRdnfoZRkRJ",
        "outputId": "132f1741-2743-4c2e-c6cb-9746fad253ca"
      },
      "execution_count": 47,
      "outputs": [
        {
          "output_type": "stream",
          "name": "stdout",
          "text": [
            "hola Lina Anabell, no hay examen se feliz\n"
          ]
        },
        {
          "output_type": "execute_result",
          "data": {
            "text/plain": [
              "'hole Line Anebell, no hey exemen se feliz'"
            ],
            "application/vnd.google.colaboratory.intrinsic+json": {
              "type": "string"
            }
          },
          "metadata": {},
          "execution_count": 47
        }
      ]
    },
    {
      "cell_type": "code",
      "source": [
        "p53_a = p53_l1.replace(\"A\", \"t\")\n",
        "p53_t = p53_a.replace(\"T\", \"a\")\n",
        "p53_g = p53_t.replace(\"G\", \"c\")\n",
        "p53_c = p53_g.replace(\"C\", \"g\")\n",
        "print(p53_c)\n",
        "print (p53_l1c)\n",
        "p53_l1c = p53_c.upper()"
      ],
      "metadata": {
        "colab": {
          "base_uri": "https://localhost:8080/"
        },
        "id": "pwXViV3NSRID",
        "outputId": "994ad313-e45a-471d-83bd-7f0b088d5e96"
      },
      "execution_count": 59,
      "outputs": [
        {
          "output_type": "stream",
          "name": "stdout",
          "text": [
            "aaggaccNgacatccatcgctgatgtcaatcccccgtggatcgtaagtccgggagtaggaggaggaaggg\n",
            "AAGGACCNGACATCCATCGCTGATGTCAATCCCCCGTGGATCGTAAGTCCGGGAGTAGGAGGAGGAAGGG\n"
          ]
        }
      ]
    },
    {
      "cell_type": "code",
      "source": [
        "print(p53_l1)\n",
        "print(p53_l1c)"
      ],
      "metadata": {
        "colab": {
          "base_uri": "https://localhost:8080/"
        },
        "id": "V1YRBa8wVFgo",
        "outputId": "0a351845-b735-4793-ef95-e04f40677aac"
      },
      "execution_count": 60,
      "outputs": [
        {
          "output_type": "stream",
          "name": "stdout",
          "text": [
            "TTCCTGGNCTGTAGGTAGCGACTACAGTTAGGGGGCACCTAGCATTCAGGCCCTCATCCTCCTCCTTCCC\n",
            "AAGGACCNGACATCCATCGCTGATGTCAATCCCCCGTGGATCGTAAGTCCGGGAGTAGGAGGAGGAAGGG\n"
          ]
        }
      ]
    },
    {
      "cell_type": "code",
      "source": [
        "p53_l1c_r = p53_l1c[::-1]\n",
        "print(p53_l1)\n",
        "print(p53_l1c)\n",
        "print(p53_l1c_r)"
      ],
      "metadata": {
        "colab": {
          "base_uri": "https://localhost:8080/"
        },
        "id": "FFImnfxTVQZi",
        "outputId": "559c11f0-aebd-4b6d-a8ad-9fd2f59c015a"
      },
      "execution_count": 65,
      "outputs": [
        {
          "output_type": "stream",
          "name": "stdout",
          "text": [
            "TTCCTGGNCTGTAGGTAGCGACTACAGTTAGGGGGCACCTAGCATTCAGGCCCTCATCCTCCTCCTTCCC\n",
            "AAGGACCNGACATCCATCGCTGATGTCAATCCCCCGTGGATCGTAAGTCCGGGAGTAGGAGGAGGAAGGG\n",
            "GGGAAGGAGGAGGATGAGGGCCTGAATGCTAGGTGCCCCCTAACTGTAGTCGCTACCTACAGNCCAGGAA\n"
          ]
        }
      ]
    },
    {
      "cell_type": "code",
      "source": [
        "print(p53_l1c_r)\n",
        "fficr = p53_l1c_r.find(\"TAC\") #Si se tiene\n",
        "ff1cr = p53_l1c_r.find(\"ATT\") #Si se tiene\n",
        "ff2cr = p53_l1c_r.find(\"ATC\")\n",
        "ff3cr = p53_l1c_r.find(\"ACT\")\n",
        "mRNA_fc = p53_l1c_r[fficr:ff1cr+3]\n",
        "print(mRNA_fc)\n",
        "print(fficr)\n",
        "print(ff1cr)\n",
        "print(ff2cr)\n",
        "print(ff3cr)"
      ],
      "metadata": {
        "colab": {
          "base_uri": "https://localhost:8080/"
        },
        "id": "iyqYOfPtavR4",
        "outputId": "9930f252-c2ae-4193-9b9c-3b01eed522c4"
      },
      "execution_count": 69,
      "outputs": [
        {
          "output_type": "stream",
          "name": "stdout",
          "text": [
            "GGGAAGGAGGAGGATGAGGGCCTGAATGCTAGGTGCCCCCTAACTGTAGTCGCTACCTACAGNCCAGGAA\n",
            "\n",
            "53\n",
            "-1\n",
            "-1\n",
            "42\n"
          ]
        }
      ]
    },
    {
      "cell_type": "markdown",
      "source": [
        "# BIOINFORMATICA \n",
        "## CLASE 6: Introducción a Python \n",
        "En esta clase vamos a revisar los siguientes contenidos:\n",
        "\n",
        "\n",
        "1.   Historia de Python\n",
        "2.   Tipos de datos\n",
        "3.   Operaciones con números \n",
        "4.   Operaciones con texto\n",
        "\n",
        "## 1. Historia de Python\n",
        "La historia de Python se puede leer en la página web [python](https://docs.python.org/3/) \n",
        "\n",
        "\n",
        "\n"
      ],
      "metadata": {
        "id": "ipL1KXhVyk0d"
      }
    }
  ]
}